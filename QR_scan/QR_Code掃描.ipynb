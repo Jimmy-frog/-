{
 "cells": [
  {
   "cell_type": "code",
   "execution_count": 1,
   "id": "109a2865",
   "metadata": {},
   "outputs": [],
   "source": [
    "from pyzbar import pyzbar\n",
    "import cv2"
   ]
  },
  {
   "cell_type": "code",
   "execution_count": 22,
   "id": "0a3941ae",
   "metadata": {},
   "outputs": [
    {
     "name": "stdout",
     "output_type": "stream",
     "text": [
      "項目 :  香草布丁蛋糕\n",
      "數目 :  1\n",
      "價格 :  75\n",
      "==================================================\n",
      "項目 :  去味大師消臭易\n",
      "數目 :  1\n",
      "價格 :  69\n",
      "==================================================\n",
      "項目 :  愛之味麥仔茶\n",
      "數目 :  1\n",
      "價格 :  30\n",
      "==================================================\n"
     ]
    }
   ],
   "source": [
    "m1 = cv2.imread(r\"D:\\desktop\\220623.jpg\")\n",
    "img=pyzbar.decode(m1)\n",
    "for d in img :\n",
    "    string = d.data.decode(\"UTF8\").split(\"**********\")\n",
    "    item_list = string[-1].split(\":\")[4:]\n",
    "    output=[item_list[i:i + 3] for i in range(0, len(item_list), 3)]\n",
    "    for i in output:\n",
    "        print(\"項目 : \", i[0])\n",
    "        print(\"數目 : \", i[1])\n",
    "        print(\"價格 : \", i[2])\n",
    "        print(\"=\"*50)\n",
    "    x,y,w,h = d.rect\n",
    "    cv2.rectangle(m1, (x,y), (x+w,y+h), (0,0,255),5)\n",
    "\n",
    "# cv2.imshow(\"  \", m1) \n",
    "# cv2.waitKey(0) \n",
    "# cv2.destroyAllWindows() "
   ]
  },
  {
   "cell_type": "code",
   "execution_count": 28,
   "id": "70bbfd59",
   "metadata": {},
   "outputs": [
    {
     "name": "stdout",
     "output_type": "stream",
     "text": [
      "- 編號: 0\n",
      "類型: QRCODE\n",
      "項目 :  香草布丁蛋糕\n",
      "數目 :  1\n",
      "價格 :  75\n",
      "==============================\n",
      "項目 :  去味大師消臭易\n",
      "數目 :  1\n",
      "價格 :  69\n",
      "==============================\n",
      "項目 :  愛之味麥仔茶\n",
      "數目 :  1\n",
      "價格 :  30\n",
      "==============================\n"
     ]
    }
   ],
   "source": [
    "# m1 = cv2.imread(r\"D:\\desktop\\all.png\")\n",
    "from PIL import Image\n",
    "import numpy as np\n",
    "m1 = cv2.imread(r\"D:\\desktop\\220623.jpg\")\n",
    "m1 = cv2.resize(m1,(int(m1.shape[1]*0.5),int(m1.shape[0]*0.5)))\n",
    "# kernel = np.array(([0,-1,0],[-1,5,-1],[0,-1,0]),np.float32)\n",
    "# m1 = cv2.filter2D(m1, -1 ,kernel)\n",
    "# m1=cv2.equalizeHist(m1)\n",
    "\n",
    "\n",
    "img=pyzbar.decode(m1)\n",
    "for i,d in enumerate(img) :\n",
    "   \n",
    "    x,y,w,h = d.rect\n",
    "    cv2.putText(m1, str(i), (x,y-5), cv2.FONT_HERSHEY_SIMPLEX, 2, (255,0,0),3)\n",
    "    cv2.rectangle(m1, (x,y), (x+w,y+h), (0,0,255),3)\n",
    "    print(\"-\",\"編號:\",i)\n",
    "    try:\n",
    "        list_ = d.data.decode(\"UTF8\").encode(\"sjis\").decode(\"utf-8\")\n",
    "        string = d.data.decode(\"UTF8\").encode(\"sjis\").decode(\"utf-8\").split(\"**********\")\n",
    "        \n",
    "        print(\"類型:\",d.type)\n",
    "        item_list = string[-1].split(\":\")[4:]\n",
    "        output=[item_list[i:i + 3] for i in range(0, len(item_list), 3)]\n",
    "        for i in output:\n",
    "            print(\"項目 : \", i[0])\n",
    "            print(\"數目 : \", i[1])\n",
    "            print(\"價格 : \", i[2])\n",
    "            print(\"=\"*30)\n",
    "        print(\"內容:\", d.data.decode(\"UTF8\").encode(\"sjis\").decode(\"utf-8\"))\n",
    "\n",
    "    except:\n",
    "        list_ = d.data.decode(\"UTF8\")\n",
    "        string = d.data.decode(\"UTF8\").split(\"**********\")\n",
    "        \n",
    "        print(\"類型:\",d.type)\n",
    "        item_list = string[-1].split(\":\")[4:]\n",
    "        output=[item_list[i:i + 3] for i in range(0, len(item_list), 3)]\n",
    "        for i in output:\n",
    "            print(\"項目 : \", i[0])\n",
    "            print(\"數目 : \", i[1])\n",
    "            print(\"價格 : \", i[2])\n",
    "            print(\"=\"*30)\n",
    "    \n",
    "cv2.imshow(\"  \", m1) \n",
    "cv2.waitKey(0) \n",
    "cv2.destroyAllWindows() \n"
   ]
  },
  {
   "cell_type": "code",
   "execution_count": null,
   "id": "be38c486",
   "metadata": {},
   "outputs": [],
   "source": []
  }
 ],
 "metadata": {
  "kernelspec": {
   "display_name": "Python 3 (ipykernel)",
   "language": "python",
   "name": "python3"
  },
  "language_info": {
   "codemirror_mode": {
    "name": "ipython",
    "version": 3
   },
   "file_extension": ".py",
   "mimetype": "text/x-python",
   "name": "python",
   "nbconvert_exporter": "python",
   "pygments_lexer": "ipython3",
   "version": "3.9.0"
  }
 },
 "nbformat": 4,
 "nbformat_minor": 5
}
